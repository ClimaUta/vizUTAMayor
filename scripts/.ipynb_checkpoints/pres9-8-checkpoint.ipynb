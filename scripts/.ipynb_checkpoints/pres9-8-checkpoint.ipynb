{
 "cells": [
  {
   "cell_type": "markdown",
   "metadata": {},
   "source": [
    "# **Presentación de modelos predictivos**"
   ]
  },
  {
   "cell_type": "markdown",
   "metadata": {},
   "source": [
    "## Requerimientos\n",
    "1. Prediccion de variables climáticas con error cercano al 0%\n",
    "2. En un lapso de tiempo de al menos 24 horas\n",
    "3. Presentación de a lo menos cuatro modelos\n",
    "\n",
    "**Opcionales:**\n",
    "\n",
    "1. Generación de pronósticos a una semana\n",
    "2. Determinación de condiciones como *nublado* o *soleado*"
   ]
  },
  {
   "cell_type": "markdown",
   "metadata": {
    "jupyter": {
     "source_hidden": true
    },
    "tags": []
   },
   "source": [
    "## Consideraciones\n",
    "\n",
    "### R o Python\n",
    "Si bien se posee mas experiencia de uso de R se decide ocupar Python puro para la creación de los modelos debido a la mayor disponibilidad de soporte y capacidad de paralelización de sus procesos (R sin paquetes externos no puede más de una núcleo por procesador)\n",
    "\n",
    "### Sobre set de datos\n",
    "De ahora en adelante se usara el término \"datos locales\" para hacer referencia a los datos creados mediante registros de los sensores UTA Mayor y datos DGAC a aquellos descargados desde la página de la Dirección de Aeronáutica Civil, del mismo modo, se ocupan las siglas **Ts, HR y QFE** para hacer referencia a las variables **Temperatura, Humedad relativa y Presión atmosférica** respectivamente, por **date** se hará referencia al **momento de captura** del registro\n",
    "\n",
    "### *Multivariable* y *multipaso*\n",
    "+ Un modelo multivariable es aquel que es dado por la fórmula: \n",
    "    > Var1 + Var2 = Var3 + Var4\n",
    "+ Es decir, múltiples variables de entradas son usadas para definir varias variables de salida. Estos modelos son conocidos como **MIMO** (*multiple input, multiple output*)\n",
    "+ Un modelo multipaso es aquel dado por la fórmula: \n",
    "    > Var1 = Var1(n-1) + Var1(n-2) + ... + Var1(0)\n",
    "+ Es decir, múltiples estados pasados de una variable son usados para definir el estado actual o futuro de la misma variable. Estos model son denominados **Multistep** "
   ]
  },
  {
   "cell_type": "markdown",
   "metadata": {},
   "source": [
    "## Contexto\n",
    "La confección de pronósticos climáticos es una disciplina antigua, pero que no se ejercía de forma metódica y precisa hasta la segunda mitad del siglo pasado, producto del empleo de herramientas como globos climáticos y comunicación por radio lo cual facilitaba el registro veraz y coordinado de ciertas variables atmosféricas en distintas zonas geográficas.\n",
    "Construída esta base es que Edward Lorentz definió tres posibles paradigmas para la confección de pronósticos climáticos:\n",
    "\n",
    "+ **Acercamiento dinámico**: El cual comprende la atmósfera como un gas el cual obedece las leyes de la física, y que mediante la definición de las ecuaciones que le gobiernan, se podrían determinar sus estados futuros y sus cambios conforme a alteraciones en sus variables **de entrada**. La desventaja de este paradigma es su lentitud y alto costo, pues requiere la acción coordinada de varias estaciones, en tiempo real, y poder computacional\n",
    "+ **Acercamiento empírico**: Asume que las condiciones futuras del clima futuro serán similares a las presentadas en el pasado\n",
    "    - Por ejemplo: Que el promedio de temperaturas de febrero del próximo año, será igual al febrero de este año\n",
    "    Mediante este paradigma se ampara el uso de ML para la creación de pronósticos, pues en base a eventos pasados, se puede generalizar con precisión el comportamiento de variables climáticas en el futuro. La desventaja de este enfoque es su incapacidad de predecir fenómenos no registrados o de rara ocurrencia\n",
    "+ **Acercamiento dinámico-empírico**: Fusión de los paradigmas anteriores, es el acercamiento *de facto* para la creación de pronósticos, hasta hace unas décadas era representado por el algoritmo MS5, ahora por el WFR\n",
    "\n",
    "### Importado de librerías y cargando funciones de utilidad"
   ]
  },
  {
   "cell_type": "code",
   "execution_count": null,
   "metadata": {
    "jupyter": {
     "source_hidden": true
    },
    "tags": []
   },
   "outputs": [],
   "source": [
    "# Uso universal\n",
    "import os\n",
    "import datetime\n",
    "import matplotlib.pyplot as plt\n",
    "import numpy as np\n",
    "import pandas\n",
    "import sqlalchemy\n",
    "import pymysql\n",
    "import joblib\n",
    "from math import sqrt\n",
    "from sklearn.metrics import mean_squared_error\n",
    "\n",
    "# 1er modelo\n",
    "from statsmodels.tsa.arima.model import ARIMA\n",
    "# 2do y cuarto modelo\n",
    "import tensorflow as tf\n",
    "# 3er modelo\n",
    "from sklearn.ensemble import RandomForestRegressor\n",
    "# import joblib\n",
    "def createTimeFeatures (dfToExpand):\n",
    "    dfToExpand['minute'] = pandas.to_datetime(dfToExpand['utc']).dt.minute\n",
    "    dfToExpand['hour'] = pandas.to_datetime(dfToExpand['utc']).dt.hour\n",
    "    dfToExpand['day'] = pandas.to_datetime(dfToExpand['utc']).dt.day\n",
    "    dfToExpand['month'] = pandas.to_datetime(dfToExpand['utc']).dt.month\n",
    "    dfToExpand['year'] = pandas.to_datetime(dfToExpand['utc']).dt.year\n",
    "    return dfToExpand"
   ]
  },
  {
   "cell_type": "code",
   "execution_count": null,
   "metadata": {
    "jupyter": {
     "source_hidden": true
    },
    "tags": []
   },
   "outputs": [],
   "source": [
    "try:\n",
    "    credentials = np.genfromtxt(\"pass\",dtype='str')\n",
    "    engine = sqlalchemy.create_engine(\"mysql+pymysql://\"+credentials[0]+\":\"+credentials[1]+\"@\"+credentials[2]+\"/\"+credentials[3] )\n",
    "    mydb = engine.connect()\n",
    "    # query = \"SELECT * FROM WEATHER_MEASUREMENT WHERE serverDate >= '2021-06-26 00:00:00' AND serverDate <= '2021-08-05';\"\n",
    "    query = \"SELECT * FROM WEATHER_MEASUREMENT ORDER BY ID DESC LIMIT 34560;\"\n",
    "    arimadf = pandas.read_sql(query,mydb)\n",
    "except:\n",
    "    mydb.close() \n",
    "    print(\"error conexion a db\")"
   ]
  },
  {
   "cell_type": "markdown",
   "metadata": {
    "tags": []
   },
   "source": [
    "# **Iteración uno: Modelo RF preliminar**\n",
    "Con el fin de obtener de forma inmediata una línea base de efectividad a mejorar mediante la creación de nuevos modelos a la vez que un acercamiento al uso de Python para el ML, es que se inicia este proceso construyendo un bosque aleatorio **(RF)** simple que consuma los datos locales de forma cruda, este algoritmo es de especial utilidad para esta tarea puesto a que no requiere la afinación de hiperparámetros (como si los requeriría una red neuronal **-DNN-**)\n",
    "\n",
    "## Preparación de datos\n",
    "Esta iteración se destaca por el escaso preprocesamiento de datos al alimentar el modelo\n",
    "\n",
    "**Selección de datos**: Datos completamente locales (~100.000 aprox.)\n",
    "\n",
    "**Limpieza de datos**: No aplica, por el contrario no existen valores nulos en los datos locales pues son generados mediante un proceso metótico y automatizado (sensores) por lo tanto de esta iteración en adelante se omite este paso\n",
    "\n",
    "## Modelado\n",
    "+ Fórmula: Ts ~ HR + QFE + date\n",
    "+ Algoritmo seleccionado: RF\n",
    "\n",
    "## Evaluación\n",
    "El modelo no se pudo concretar\n",
    "+ El consumo de recursos computacionales es excesivo\n",
    "+ La predicción de una variable climática cada 5 segundos puede resultar innecesaria considerando que se ha de generar pronósticos a una semana en el futuro\n",
    "    - Esto resultaría en 168\\*60\\*12 predicciones, es decir ~121.000 registros por modelo\n",
    "+ Los *predictores* (HR + QFE + date) están mal definidos, pues para determinar el valor de una variable climática en el futuro solo se cuenta con un *momento* (e.g: '2021-08-08 12:00:00) y no con valores de HR o QFE\n",
    "\n",
    "Este problema se puede solucionar eliminando del set de datos de entrenamiento las variables HR y QFE, pero genera otros inconvenientes.\n",
    "Solo se cuenta con datos tipo fecha, los cuales en este formato se comportan como un escalar (e.g: valores de 0 a 1000 con pasos de uno en uno) lo cual puede no ser útil para la detección de patrones por parte de los modelos. Ante esta situación se plantean tres opciones:\n",
    "    \n",
    "1. Si se asume que para alimentar al modelo solo se cuenta con **momentos (o fechas)** pasadas para pronósticos futuros, se podría aplicar análisis de **series de tiempo** en los datos, y por tanto todas las herramientas ya desarrolladas para este tipo de fenómenos\n",
    "    > Fórmula: Ts(n) ~ Ts(n-1) + Ts(n-2) + ...\n",
    "2. Por otra parte, la descomposición de fechas en **características de tiempo**, es decir, minutos, horas, días y meses, es intuitivamente útil, pues si el modelo logra relacionar por ejemplo el promedio de temperaturas de julio con un valor más bajo que el promedio de junio, se obtendría un pronóstico básico, pero funcional\n",
    "    > Fórmula: Ts(n) ~ H + D + M \n",
    "3. Por último, apegándose mas a la definición de *acercamiento empírico*, se asume que las condiciones climáticas futuras son definidas de forma importante por las condiciones pasadas, por lo tanto se puede construir un **mapeo** de una serie de condiciones pasadas (incluyendo HR y QFE) a un momento futuro de éstas mismas variables\n",
    "    > Fórmula: Ts(n) ~ Ts(n-1) + HR(n-1) + QFE(n-1)\n",
    "\n",
    "> *Nota*: Todas estas fórmulas pueden aplicarse en su forma multivariable (**MIMO**) en cuanto el algoritmo a ocupar lo permita, por lo tanto una fórmula del tipo (Ts+HR+QFE)(n) ~ H + D + M es perfectamente válida"
   ]
  },
  {
   "cell_type": "markdown",
   "metadata": {},
   "source": [
    "# **Iteración dos: Modelo DNN**\n",
    "Tomando en cuenta la evaluación del modelo anterior es que en esta iteración se comienza a hacer preprocesamiento de datos, proceso el cual también conlleva a tomar decisiones en un contexto de **costo-beneficio**, pues la construcción y formateo de datos estará alterando la ***realidad*** registrada por los sensores en pos de alimentar a los modelos ML con información la cual sea consistente y eficiente de procesar en vez de *real*. La estrategia de preprocesamiento en esta iteración corresponde a una mezcla entre las opciones **2 y 3** de la sección anterior\n",
    "\n",
    "## Preparación de datos\n",
    "**Selección de datos**: Para disminuir el uso de recursos computacionales se decide hacer **agrupamiento de los registros** por minuto, disminuyendo 12 veces el tamaño del dataset original. \n",
    "\n",
    "**Construcción**: El agrupamiento de datos por medio de minutos reveló **gaps** entre los registros, los cuales deben ser rellenados si se desea aplicar el método 3 pues, por ejemplo, una temperatura de las 8am podría ser definida por la Ts de las 1am, último Ts registrado antes de un periodo de baja del servicio. En python esta operación se denomina **interpolado**\n",
    "\n",
    "**Formateo**: Para las redes neuronales, este es un paso obligatorio, las transformaciones que han de aplicarse para alimentar una DNN de *tensorflow* incluye:\n",
    "\n",
    "+ Descomposición de tiempo: La DNN es incapaz de procesar datos tipo *date*    \n",
    "+ Interpolado: Es incapaz de procesar datos nulos\n",
    "+ Normalización: Las DNN son sensibles a los valores fuera de un rango (-1,1) pues valores muy altos pueden falsamente anunciarse como cambios de alta importancia y propagarse entre las neuronas a pesar de ser simplemente el promedio de una variable (e.g: Ts vs QFE)"
   ]
  },
  {
   "cell_type": "markdown",
   "metadata": {
    "jp-MarkdownHeadingCollapsed": true,
    "tags": []
   },
   "source": [
    "## Modelado\n",
    "+ Características del modelo: Mutlivariable\n",
    "+ Fórmula: Ts(n) ~ Ts(n-1) + min + H + D + M\n",
    "+ Algoritmo seleccionado: DNN, 4 capas densas, Entradas \\[7,] -> Salida\\[3]"
   ]
  },
  {
   "cell_type": "code",
   "execution_count": null,
   "metadata": {
    "tags": []
   },
   "outputs": [],
   "source": [
    "# Preparación de datos\n",
    "## Seleccion\n",
    "df = pandas.read_csv(\"./WEATHER_MEASUREMENT.csv\")\n",
    "df[\"utc\"] = pandas.to_datetime(df[\"dateUTC\"],format='%Y-%m-%d %H:%M:%S')\n",
    "df = df.groupby(pandas.Grouper(key=\"utc\",freq='min')).mean()    \n",
    "toKeep = ['AMBIENT_TEMPERATURE','AIR_PRESSURE','HUMIDITY']\n",
    "df = df[toKeep]\n",
    "df = df.reset_index()\n",
    "df.columns = ['utc','Ts_Valor','QFE_Valor','HR_Valor']\n",
    "df = df[['Ts_Valor','HR_Valor','QFE_Valor','utc']]"
   ]
  },
  {
   "cell_type": "code",
   "execution_count": null,
   "metadata": {
    "tags": []
   },
   "outputs": [],
   "source": [
    "## Construcción\n",
    "df = df.interpolate(method = 'linear')\n",
    "## Formateo\n",
    "df = createTimeFeatures(df)\n",
    "dates_df = df.pop('utc')\n",
    "df.pop('year')\n",
    "## Normalizado\n",
    "train_mean = df.mean()\n",
    "train_std = df.std()\n",
    "df = (df - train_mean) / train_std"
   ]
  },
  {
   "cell_type": "code",
   "execution_count": null,
   "metadata": {
    "jupyter": {
     "source_hidden": true
    },
    "tags": []
   },
   "outputs": [],
   "source": [
    "# Modelado\n",
    "## Creación de *labels* para utilizar como resultados de fórmula\n",
    "topred = df[['Ts_Valor','HR_Valor','QFE_Valor']]\n",
    "topred = topred[1:]\n",
    "topred = topred.reset_index(drop=True)\n",
    "# topred = (topred - train_mean[['Ts_Valor','HR_Valor','QFE_Valor']]) / train_std[['Ts_Valor','HR_Valor','QFE_Valor']]\n",
    "df = df[:-1]"
   ]
  },
  {
   "cell_type": "code",
   "execution_count": null,
   "metadata": {
    "tags": []
   },
   "outputs": [],
   "source": [
    "## Creación datasets de entrenamiento y testeo\n",
    "lendf = len(df)\n",
    "lendf = round(lendf*0.9)\n",
    "train_df = df[0:lendf]\n",
    "train_labels = topred[0:lendf]\n",
    "test_df = df[lendf:len(df)]\n",
    "test_labels = topred[lendf:len(df)]"
   ]
  },
  {
   "cell_type": "code",
   "execution_count": null,
   "metadata": {
    "jupyter": {
     "source_hidden": true
    },
    "tags": []
   },
   "outputs": [],
   "source": [
    "topred.tail()\n",
    "topred.shape"
   ]
  },
  {
   "cell_type": "code",
   "execution_count": null,
   "metadata": {
    "jupyter": {
     "source_hidden": true
    },
    "tags": []
   },
   "outputs": [],
   "source": [
    "df.tail()\n",
    "df.shape"
   ]
  },
  {
   "cell_type": "code",
   "execution_count": null,
   "metadata": {
    "jupyter": {
     "source_hidden": true
    },
    "tags": []
   },
   "outputs": [],
   "source": [
    "# Modelado\n",
    "features = test_df.shape[1]\n",
    "train_df = np.array(train_df)\n",
    "test_df = np.array(test_df)\n",
    "train_labels = np.array(train_labels)\n",
    "test_labels = np.array(test_labels)\n",
    "\n",
    "nnHM = tf.keras.Sequential()\n",
    "nnHM.add(tf.keras.layers.Dense(168,input_shape=(features,)))\n",
    "nnHM.add(tf.keras.layers.Dense(72,input_shape=(features,)))\n",
    "nnHM.add(tf.keras.layers.Dense(24,activation='relu'))\n",
    "nnHM.add(tf.keras.layers.Dense(3))\n",
    "# nnHM.predict(test_df)"
   ]
  },
  {
   "cell_type": "code",
   "execution_count": null,
   "metadata": {
    "jupyter": {
     "source_hidden": true
    },
    "tags": []
   },
   "outputs": [],
   "source": [
    "## Compilado de modelo\n",
    "nnHM.compile(\n",
    "    optimizer=tf.optimizers.Adam(),\n",
    "    #learning_rate = 0.001\n",
    "    loss='mae', # 'mean_absolute_error',\n",
    "    metrics=[tf.keras.metrics.MeanSquaredError()] \n",
    ")\n",
    "history = nnHM.fit(\n",
    "    train_df, train_labels,\n",
    "    epochs=3,\n",
    "    verbose=1,\n",
    "    shuffle=False,\n",
    "    validation_split=0.15\n",
    ")"
   ]
  },
  {
   "cell_type": "code",
   "execution_count": null,
   "metadata": {
    "jupyter": {
     "source_hidden": true
    },
    "tags": []
   },
   "outputs": [],
   "source": [
    "x = nnHM.predict(test_df)\n",
    "stackPreds = pandas.DataFrame(x)\n",
    "stackPreds.columns = ['Ts_Valor','HR_Valor','QFE_Valor']\n",
    "test_labels = pandas.DataFrame(test_labels)\n",
    "test_labels.columns = ['Ts_Valor','HR_Valor','QFE_Valor']\n",
    "test_labels = test_labels.reset_index(drop=True)"
   ]
  },
  {
   "cell_type": "code",
   "execution_count": null,
   "metadata": {
    "tags": []
   },
   "outputs": [],
   "source": [
    "#### NO CORRER\n",
    "# De normalizacion\n",
    "stackPreds = stackPreds * train_std + train_mean\n",
    "test_labels = test_labels * train_std + train_mean\n",
    "#stackPreds.plot(subplots=True)\n",
    "#test_labels.plot(subplots=True)\n",
    "#plt.show()"
   ]
  },
  {
   "cell_type": "markdown",
   "metadata": {
    "tags": []
   },
   "source": [
    "## Evaluación\n",
    "A primera vista pareciera que el modelo tiene una alta capacidad predictiva debido a los errores promedio cercanos a cero considerando la varianza original de los datos. Lo cual se confirma al apreciar la cercanía entre las líneas dibujadas por las predicciones y el dataset de testeo"
   ]
  },
  {
   "cell_type": "code",
   "execution_count": null,
   "metadata": {
    "tags": []
   },
   "outputs": [],
   "source": [
    "%matplotlib qt\n",
    "plt.plot(stackPreds['Ts_Valor'],label=\"Predicciones DNN\")\n",
    "plt.plot(test_labels['Ts_Valor'],label=\"Test Labels\")\n",
    "plt.title(\"Predicciones de temperatura - Modelo DNN - Fórmula: (Ts+HR+QFE)(n) ~ (Ts+HR+QFE)(n-1) + TimeFeatures\")\n",
    "plt.ylabel(\"Temperatura (°C)\")\n",
    "plt.xlabel(\"Cantidad de minutos en el futuro\")\n",
    "plt.legend()\n",
    "plt.grid()\n",
    "plt.show()"
   ]
  },
  {
   "cell_type": "code",
   "execution_count": null,
   "metadata": {},
   "outputs": [],
   "source": [
    "a = stackPreds - test_labels\n",
    "a.mean()"
   ]
  },
  {
   "cell_type": "markdown",
   "metadata": {
    "tags": []
   },
   "source": [
    "## Implementación\n",
    "Obedeciendo la fórmula de este modelo: **Ts(n) ~ Ts(n-1) + min + H + D + M**\n",
    "\n",
    "Es que las predicciones que este genera deben ser retroalimentadas como *input* para la generación de una siguiente predicción o **paso**, en este momento es donde el modelo falla de forma evidente como se puede ver en la siguiente gráfica"
   ]
  },
  {
   "cell_type": "code",
   "execution_count": null,
   "metadata": {
    "jupyter": {
     "source_hidden": true
    },
    "tags": []
   },
   "outputs": [],
   "source": [
    "r = [18.955,55.959,1012.699,0,0,1,8]\n",
    "r = pandas.DataFrame(r).transpose()\n",
    "r.columns = ['Ts_Valor','HR_Valor','QFE_Valor','minute','hour','day','month']\n",
    "r = (r-train_mean)/train_std\n",
    "r = r[['Ts_Valor','HR_Valor','QFE_Valor','minute','hour','day','month']]\n",
    "r"
   ]
  },
  {
   "cell_type": "code",
   "execution_count": null,
   "metadata": {
    "jupyter": {
     "source_hidden": true
    },
    "tags": []
   },
   "outputs": [],
   "source": [
    "now = pandas.to_datetime('2021-07-29 18:00:00')\n",
    "features = test_df.shape[1]\n",
    "x = nnHM.predict(r)\n",
    "stackPreds = pandas.DataFrame()\n",
    "for i in range(20):\n",
    "    delta = now + datetime.timedelta(0,i*60)\n",
    "    #temp = np.array([x,y,z,delta.hour,delta.day,delta.month],dtype=\"float32\")\n",
    "    temp = np.array([x[0,0],x[0,1],x[0,2],delta.minute,delta.hour,delta.day,delta.month],dtype=\"float32\")\n",
    "    stackPreds = stackPreds.append(pandas.DataFrame(temp).transpose())\n",
    "    # Formateando registro para alimentar el modelo\n",
    "    temp_RE = np.reshape(temp,(-1,features))\n",
    "    x = nnHM.predict(temp_RE)\n",
    "\n",
    "stackPreds.columns = ['Ts_Valor','HR_Valor','QFE_Valor','minute','hour','day','month']\n",
    "stackPreds = stackPreds * train_std + train_mean\n",
    "stackPreds = stackPreds.reset_index(drop=True)"
   ]
  },
  {
   "cell_type": "code",
   "execution_count": null,
   "metadata": {
    "tags": []
   },
   "outputs": [],
   "source": [
    "test_labels = test_labels.reset_index(drop=True)\n",
    "plt.plot(stackPreds['Ts_Valor'],label=\"Predicciones DNN\")\n",
    "plt.plot(test_labels[['Ts_Valor']],label=\"Test Labels\")\n",
    "plt.title(\"Predicciones de temperatura - Modelo DNN - Fórmula: (Ts+HR+QFE)(n) ~ (Ts+HR+QFE)(n-1) + TimeFeatures\")\n",
    "plt.ylabel(\"Temperatura (°C)\")\n",
    "plt.xlabel(\"Cantidad de minutos en el futuro\")\n",
    "plt.legend()\n",
    "plt.grid()\n",
    "plt.show()"
   ]
  },
  {
   "cell_type": "markdown",
   "metadata": {},
   "source": [
    "La falla de este modelo recae en su fórmula **Ts(n) ~ Ts(n-1) + min + H + D + M** , la cual indica que todas las predicciones son mayormente dependientes de sus valores inmediatamente anteriores (Ts(n) ~ Ts(n-1)) y además al hecho de haber aprendido en mayor parte el **comportamiento lineal** de los datos, el cual fue inducido al momento de hacer interpolado con tal de obtener un dataset consistente.\n",
    "\n",
    "Ante la incapacidad de los modelos de retroalimentarse y generar predicciones fiables no tan dependientes de los registros inmediatamente anteriores captados se idea una serie de formas posibles de apalear los efectos de este fenomeno y se comentan sus posible desventajas:\n",
    "+ **No proveer de la varible minuto a los registros**: Considerando que las predicciones:\n",
    "    1. O son incapaces de entender los minutos como un simple componente de hora, es decir que los minutos de la hora 16 tienen distinto comportamiento que los minutos de la hora 3 am\n",
    "    2. O la variable minuto simplemente provee rigidez al modelo, debido a su comportamiento lineal, lo cual lo hace incapaz de reconocer la mayor importancia de mapear en 1er lugar e.g: hora -> temperatura\n",
    "+ Agrandar los gaps entre los registros: A hora o días, pues los comportamientos lineales de los tiempos de downtime son *extensos* considerando la granularidad de los registros, lo cual afecta negativamente la deteccion de periodicidad en los datos\n",
    "    > Una iteración 2.5 demostró que esta solución no es viable\n",
    "+ **Mejorar interpolacion**: Preferentemente mediante una funcion sinusoidal que imite los ciclos naturales diarios de las variables climáticas\n",
    "    1. Imposible aplicar para humedad relativa con datos locales, su comportaminento es muy errático\n",
    "    2. Disponibilidad: se requiere al menos un par de dias de registros sin downtime o integración de datos externos\n",
    "    3. Alta complejidad: pues requeriria ya un modelo de prediccion funcional tan solo para hacer preprocesamiento\n",
    "+ **Integración de datos**: Dgac y locales, sobreescribiendo los datos locales en los datos Dgac, de esta forma los modelos tienen mayor espacio para aprender los ciclos de las variables\n",
    "    1. Se perderia una enorme cantidad de datos (720 veces menos datos)\n",
    "+ Mapeos mas extensos: Conocido también como **sistema de ventanas**, consiste en relacionar una mayor cantidad de datos por cada *label*\n",
    "    1. e.g: matriz6horasDeDatos[][] -> prediccion1hora[]"
   ]
  },
  {
   "cell_type": "markdown",
   "metadata": {},
   "source": [
    "Tomando en cuenta los aprendizajes obtenidos mendiante la visualización de datos es que se opta por aplicar soluciones incluyendo los puntos 1, 4 y 5, y retomando las opciones 1 y 2 mencionadas en la iteración uno, las cuales no empleaban variables que requieren retroalimentación, pues dependen únicamente de la fecha de los registros y comportamientos cíclicos *univariables*"
   ]
  },
  {
   "cell_type": "markdown",
   "metadata": {},
   "source": []
  },
  {
   "cell_type": "markdown",
   "metadata": {},
   "source": [
    "# **Iteración tres: Modelo ARIMA**\n",
    "Un modelo autorregresivo de promedio móvil integrado (ARIMA) es un modelo estadístico que utiliza variaciones y regresiones de datos estadísticos con el fin de encontrar patrones para una predicción hacia el futuro [\\[1\\]](https://es.wikipedia.org/wiki/Modelo_autorregresivo_integrado_de_media_m%C3%B3vil) .\n",
    "\n",
    "Este tipo de modelos son *univariables* pero requieren que el usuario indique, como mínimo, la periodicidad percibida de la serie de tiempo a estudiar, como se conoce que la mayoría de variables climáticas dibujan ciclos de 24 horas de acuerdo a las horas del día, se puede construir un modelo ARIMA por cada variable [\\[2\\]](https://machinelearningmastery.com/arima-for-time-series-forecasting-with-python/).\n",
    "\n",
    "## Preparación de datos\n",
    "**Selección de datos**: Últimos dos días de registros locales (~35.000 aprox.) agrupados por hora.\n",
    "> Una iteración 3.5 demostró que el uso de dataset de dataset agrupados por minuto genera una excesiva carga computacional y tamaño de modelo (~ 2 gb) \n",
    "\n",
    "**Construcción**: Interpolado lineal \n",
    "\n",
    "**Formateo**: Tarea extensa debido al tipo de index el cual consume el modelo, que debe ser de tipo *date* con frecuencia horaria explicitada, el cual además para subir a DB, debe pasar por un proceso inverso."
   ]
  },
  {
   "cell_type": "markdown",
   "metadata": {
    "tags": []
   },
   "source": [
    "## Modelado\n",
    "+ Fórmula: Ts(n) = Ts(n-1) + Ts(n-2) + ... + Ts(0)\n",
    "+ Algoritmo: ARIMA del paquete 'statsmodels' (en rigor es un SARIMAX), periodicidad cada 24 registros y grado de integración 1."
   ]
  },
  {
   "cell_type": "code",
   "execution_count": null,
   "metadata": {
    "jupyter": {
     "source_hidden": true
    },
    "tags": []
   },
   "outputs": [],
   "source": [
    "df = df.iloc[::-1] # dando vuelta el dataframe\n",
    "df = arimadf.iloc[::-1] # dando vuelta el dataframe\n",
    "df[\"utc\"] = pandas.to_datetime(df[\"serverDate\"],format='%Y-%m-%d %H:%M:%S')\n",
    "df = df[['AMBIENT_TEMPERATURE','AIR_PRESSURE','HUMIDITY','utc']]\n",
    "df = df.reset_index(drop=True)\n",
    "df2 = df.groupby(pandas.Grouper(key=\"utc\",freq='H')).mean()\n",
    "df2 = df2.interpolate(method='linear')\n",
    "series = df2\n",
    "series.index = series.index.to_period('H')"
   ]
  },
  {
   "cell_type": "markdown",
   "metadata": {
    "tags": []
   },
   "source": [
    "Una de las mejores caracteristicas de los modelos ARIMA (o al menos su implementacion en pyhon) es que puede hacer bulk de predicciones con tan solo un valor futuro fijo de la serie de tiempo (o sea una fecha futura arbitraria), sin embargo al mismo tiempo dependera complemente de los ultimos steps que el mismo modelo va creando, los cuales van disminuyendo a través del tiempo, convergiendo las prediccioes en el promedio de las variables.\n"
   ]
  },
  {
   "cell_type": "code",
   "execution_count": null,
   "metadata": {
    "jupyter": {
     "source_hidden": true
    },
    "tags": []
   },
   "outputs": [],
   "source": [
    "future = 72\n",
    "\n",
    "stackPreds = pandas.DataFrame()\n",
    "model = ARIMA(series['AMBIENT_TEMPERATURE'], order=(24,1,0))\n",
    "model_fit = model.fit()\n",
    "stackPreds['AMBIENT_TEMPERATURE'] = model_fit.forecast(future)\n",
    "model = ARIMA(series['HUMIDITY'], order=(24,1,0))\n",
    "model_fit = model.fit()\n",
    "stackPreds['HUMIDITY'] = model_fit.forecast(future)\n",
    "model = ARIMA(series['AIR_PRESSURE'], order=(24,1,0))\n",
    "model_fit = model.fit()\n",
    "stackPreds['AIR_PRESSURE'] = model_fit.forecast(future)"
   ]
  },
  {
   "cell_type": "markdown",
   "metadata": {},
   "source": [
    "## Evaluación"
   ]
  },
  {
   "cell_type": "code",
   "execution_count": null,
   "metadata": {},
   "outputs": [],
   "source": [
    "series.plot(subplots=True)\n",
    "plt.show()"
   ]
  },
  {
   "cell_type": "code",
   "execution_count": null,
   "metadata": {},
   "outputs": [],
   "source": [
    "stackPreds.plot(subplots=True)\n",
    "plt.show()"
   ]
  },
  {
   "cell_type": "markdown",
   "metadata": {},
   "source": [
    "Como se puede observar, el modelo genera gráficas que en mayor parte se asemejan a los comportamientos de las variables que le fueron proveídas, el principal objetivo de esta iteración fue alcanzado pues se construyó un modelo el cual puede consumir sus propias predicciones como input y dar *pasos en el futuro* de forma estable"
   ]
  },
  {
   "cell_type": "markdown",
   "metadata": {},
   "source": [
    "# **Iteración cuatro: Modelo DNN - solo tiempo**\n",
    "Continuando con la premisa del modelo ARIMA (es decir, el valor actual de las variables dependen únicamente de sus momentos pasados) es que mediante un modelo DNN, adaptamos esta premisa a los algoritmos de aprendizaje automáticos modernos. De esta forma, de forma computacional, la variable a predecir ya no consume un bulk de sus estados pasados, sino que se construye un mapeo \n",
    "> Momento (pasado o futuro) -> Variable\n",
    "\n",
    "El cual generalize mejor los mapeos \"momento -> variable\" pasados. De esta forma los nuevos *inputs* del modelo se convierten en **características de tiempo** como hora, día y mes, los cuales siempre existirán y no requieren que el modelo consuma sus propias predicciones\n",
    "A diferencia de ARIMA, un DNN construído de forma manual en *tensorflow* puede ser de *output* multivariable, y además se puede controlar con precisión los comportamientos internos de la red neuronal como la cantidad de capas y forma de activación.\n",
    "\n",
    "## Preparación de datos\n",
    "**Selección de datos**: Proveer de datos consistentes y extensos es de vital importancia en el aprendizaje automático por lo que se emplean todos los registros locales disponibles agrupados por hora y además se hace selección de datos externos para complementar\n",
    "\n",
    "**Construcción**: Sabiendo que los gaps de nuestros datos locales van a ser suplidos por externos, este paso no aplica de aquí en adelante\n",
    "\n",
    "**Integración**: Se integran datos externos proveídos por DGAC de 2019 y 2020 para rellenar nuestros registros faltantes, este paso se aplica para todas las iteraciones de aquí en adelante\n",
    "\n",
    "**Formateo**: Incluye descomposición de tiempo y normalización "
   ]
  },
  {
   "cell_type": "markdown",
   "metadata": {
    "tags": []
   },
   "source": [
    "## Modelado\n",
    "+ Fórmula: Ts(n) ~ H + D + M , en su versión multivariable (Ts+HR+QFE)(n) ~ H + D + M\n",
    "+ Algoritmo: Stack de 5 capas de redes neuronales densas (*fully connected neurons* sin métodos internos)"
   ]
  },
  {
   "cell_type": "code",
   "execution_count": null,
   "metadata": {
    "jupyter": {
     "source_hidden": true
    },
    "tags": []
   },
   "outputs": [],
   "source": [
    "df = pandas.read_csv(\"./dataPreprocessed.csv\")\n",
    "df = createTimeFeatures(df)\n",
    "df = df[['Ts_Valor','HR_Valor','QFE_Valor','hour','day','month']]\n",
    "\n",
    "lendf = len(df)\n",
    "lendf = round(lendf*0.998)\n",
    "train_df = df[0:lendf]\n",
    "test_df = df[lendf:len(df)]\n",
    "\n",
    "varToPred = 'Ts_Valor'\n",
    "varToPred = ['Ts_Valor','HR_Valor','QFE_Valor']\n",
    "train_labels = df[varToPred][0:len(train_df)]\n",
    "test_labels = df[varToPred][lendf:]\n",
    "\n",
    "# salvando valores de test para autoregresiones\n",
    "rtTest = test_df.copy()\n",
    "rtTest_labels = test_labels.copy()\n",
    "\n",
    "train_mean = train_df.mean()\n",
    "train_std = train_df.std()\n",
    "train_df = (train_df - train_mean) / train_std\n",
    "test_df = (test_df - train_mean) / train_std\n",
    "train_labels = (train_labels - train_mean[varToPred]) / train_std[varToPred]\n",
    "test_labels = (test_labels - train_mean[varToPred]) / train_std[varToPred]\n",
    "\n",
    "train_df = train_df[['hour','day','month']]\n",
    "test_df = test_df[['hour','day','month']]\n",
    "features = train_df.ndim + 1"
   ]
  },
  {
   "cell_type": "code",
   "execution_count": null,
   "metadata": {
    "jupyter": {
     "source_hidden": true
    },
    "tags": []
   },
   "outputs": [],
   "source": [
    "train_df = np.array(train_df)\n",
    "#test_df = np.array(test_df)\n",
    "train_labels = np.array(train_labels)\n",
    "#test_labels = np.array(test_labels)\n",
    "\n",
    "nnHM = tf.keras.Sequential()\n",
    "nnHM.add(tf.keras.layers.Dense(672,input_shape=(3,)))\n",
    "nnHM.add(tf.keras.layers.Dense(168,activation='relu'))\n",
    "nnHM.add(tf.keras.layers.Dense(72,activation='relu'))\n",
    "nnHM.add(tf.keras.layers.Dense(24,activation='relu'))\n",
    "nnHM.add(tf.keras.layers.Dense(3))"
   ]
  },
  {
   "cell_type": "code",
   "execution_count": null,
   "metadata": {
    "tags": []
   },
   "outputs": [],
   "source": [
    "nnHM.compile(\n",
    "    optimizer=tf.optimizers.Adam(),\n",
    "    #learning_rate = 0.001\n",
    "    loss='mae', # 'mean_absolute_error',\n",
    "    metrics=[tf.keras.metrics.MeanSquaredError()] # you were running metrics with 'accuracy' lol\n",
    ")\n",
    "history = nnHM.fit(\n",
    "    train_df, train_labels,\n",
    "    epochs=5,\n",
    "    verbose=1,\n",
    "    shuffle=False,\n",
    "    validation_split=0.15\n",
    ")"
   ]
  },
  {
   "cell_type": "code",
   "execution_count": null,
   "metadata": {},
   "outputs": [],
   "source": [
    "stackPreds.plot(subplots=True)\n",
    "test_labels.plot(subplots=True)\n",
    "plt.show()"
   ]
  },
  {
   "cell_type": "code",
   "execution_count": null,
   "metadata": {
    "jupyter": {
     "source_hidden": true
    },
    "tags": []
   },
   "outputs": [],
   "source": [
    "#x = nnHM.predict(test_df)\n",
    "nnHM = tf.keras.models.load_model('../deepNN-multiV2')\n",
    "x = nnHM.predict(test_df)\n",
    "\n",
    "stackPreds = pandas.DataFrame(x)\n",
    "stackPreds.columns = ['Ts_Valor','HR_Valor','QFE_Valor']\n",
    "test_labels = pandas.DataFrame(test_labels)\n",
    "test_labels.columns = ['Ts_Valor','HR_Valor','QFE_Valor']"
   ]
  },
  {
   "cell_type": "code",
   "execution_count": null,
   "metadata": {
    "jupyter": {
     "source_hidden": true
    },
    "tags": []
   },
   "outputs": [],
   "source": [
    "stackPreds = stackPreds * train_std + train_mean\n",
    "test_labels = test_labels * train_std + train_mean\n",
    "stackPreds = stackPreds.reset_index(drop=True)\n",
    "test_labels = test_labels.reset_index(drop=True)"
   ]
  },
  {
   "cell_type": "markdown",
   "metadata": {
    "tags": []
   },
   "source": [
    "## Evaluación"
   ]
  },
  {
   "cell_type": "code",
   "execution_count": null,
   "metadata": {
    "tags": []
   },
   "outputs": [],
   "source": [
    "plt.plot(stackPreds['Ts_Valor'],label=\"Predicciones\")\n",
    "plt.plot(test_labels['Ts_Valor'],label=\"Test Labels\")\n",
    "plt.title(\"Predicciones de temperatura - Modelo DNN - Fórmula: Ts ~ h + d + m\")\n",
    "plt.ylabel(\"Temperatura (°C)\")\n",
    "plt.xlabel(\"Horas en el futuro desde el 31-07 03:00\")\n",
    "plt.legend()\n",
    "plt.grid()\n",
    "plt.show()"
   ]
  },
  {
   "cell_type": "code",
   "execution_count": null,
   "metadata": {
    "tags": []
   },
   "outputs": [],
   "source": [
    "plt.plot(stackPreds['HR_Valor'],label=\"Predicciones\")\n",
    "plt.plot(test_labels['HR_Valor'],label=\"Predicciones\")\n",
    "plt.legend()\n",
    "plt.grid()\n",
    "plt.title(\"Predicciones de humedad relativa - Modelo DNN - Fórmula: HR ~ h + d + m\")\n",
    "plt.ylabel(\"Humedad relativa (%)\")\n",
    "plt.xlabel(\"Horas en el futuro desde el 31-07 03:00\")\n",
    "plt.show()"
   ]
  },
  {
   "cell_type": "code",
   "execution_count": null,
   "metadata": {},
   "outputs": [],
   "source": [
    "a = ((stackPreds - test_labels) * (stackPreds - test_labels)).mean()\n",
    "a"
   ]
  },
  {
   "cell_type": "markdown",
   "metadata": {},
   "source": [
    "Como se puede observar, el modelo genera gráficas que en mayor parte se asemejan a los comportamientos de las variables en el set de datos de testeo, sin embargo cabe mencionar ciertas observaciones a mejorar en futuras iteraciones:\n",
    "+ Las predicciones tienen un comportamiento de **señal** más que alguno de fenómeno natural. Esto se debe a que:\n",
    "    - El modelo consume variables estáticas, es decir a través de los años los componentes **H, D y M** siempre tienen el mismo comportamiento (ir de 1 a 24, 1 a 30 y 1 a 12 respectivamente), por lo que en resumen, el modelo no hace mas que **mapear los mejores promedios a distintos momentos del año**\n",
    "    - Este fenómeno era esperable dada la fórmula que define el modelo, el cual consume valores constantes\n",
    "+ Los valores de error promedio calculado van en conjunto con lo expuesto, pues en visualizaciones de datos preliminares ya se observaba que las variables Ts y QFE tenían un comportamiento cíclico rígido y, por el contrario, HR era la variable con más ruido\n",
    "\n",
    "De esta forma, esta iteración confirma la **importancia** que tiene el alimentar al modelo con registros de variables pasadas, esta vez, abasteciendo con suficientes datos históricos con diferencias significantes para privilegiar la detección de **ciclos (o estacionalidad)** y en segundo lugar el efecto de registros inmediatemente anteriores sobre la predicción final.\n",
    "\n",
    "> Una solución alternativa, pero que conceptualmente no es diferente a lo desarrollado en esta iteración, es el forzar el comportamiento de señal en las variables, mediante la aplicación de transformaciones tipo **H = sin(H)** y **D + M = sin(D + M)** con tal de explicitar los ciclos diarios y anuales de cada variable"
   ]
  },
  {
   "cell_type": "markdown",
   "metadata": {},
   "source": [
    "# **Iteración cinco: Modelo RF**\n",
    "Tomando en cuenta la evaluación de la iteración pasada, es que esta vez el modelo a generar debe captar ciclos de variables a la vez que ser \n",
    "sensible a los valores inmediatamente anteriores de otras condiciones climáticas.\n",
    "Por lo que para esta iteración se retoma la fórmula Ts(n) ~ Ts(n-1) + min + H + D + M pero eliminando el componente minutos e incrementando la cantidad de información de entrenamiento mediante la integración de datos de DGAC\n",
    "\n",
    "La afinación de una regresión y el modelo detrás de este es un proceso costoso computacionalmente a la vez que inestable, problemas propios de las redes neuronales como *exploding/vanishing gradient* fueron presensiados en iteraciones pasadas pero no mencionadas para mantener el *notebook* fluido, al mismo tiempo, las diferentes formas de normalizar e interpolar datos añaden mayor complejidad y variables que deben ser meticulosamente traceadas y guardadas al momento de creación de un modelo NN\n",
    "Ante estas dificultades es que se vuelve a aplicar un modelo RF, el cual no presenta los problemas descritos pues simplemente divide y promedia la serie de árboles de decisión que construye para generar una regresión\n",
    "\n",
    "## Preparación de datos\n",
    "**Selección de datos**: Datos locales y DGAC (2 años) agrupados por hora\n",
    "\n",
    "**Integración**: Se escribe nuestros datos locales sobre los registros DGAC mediante una operación *join&replace*\n",
    "\n",
    "**Formateo**: Descomposición de tiempo"
   ]
  },
  {
   "cell_type": "markdown",
   "metadata": {
    "tags": []
   },
   "source": [
    "## Modelado\n",
    "+ Fórmula: Ts(n) ~ Ts(n-1) + HR(n-1) + QFE(n-1) + H + D + M + Y\n",
    "+ Algoritmo seleccionado: RF, su implementación en python permite *output* multivariable (Entradas \\[7,] -> Salida\\[3]) a la vez que mapeo por ventanas"
   ]
  },
  {
   "cell_type": "code",
   "execution_count": null,
   "metadata": {
    "jupyter": {
     "source_hidden": true
    },
    "tags": []
   },
   "outputs": [],
   "source": [
    "# Seleccion e integración\n",
    "df = pandas.read_csv(\"./dataPreprocessed.csv\")\n",
    "df = createTimeFeatures(df)\n",
    "df.pop('minute')\n",
    "dates_df = df.pop('utc')\n",
    "\n",
    "# Preparación de datos y labels para cumplir con fórmula\n",
    "topred = df[['Ts_Valor','HR_Valor','QFE_Valor']]\n",
    "topred = topred[1:]\n",
    "df = df[:-1]\n",
    "\n",
    "# Dividiendo dataset\n",
    "lendf = len(df)\n",
    "lendf = round(lendf*0.9)\n",
    "train_df = df[0:lendf]\n",
    "train_labels = topred[0:lendf]\n",
    "test_df = df[lendf:len(df)]\n",
    "test_labels = topred[lendf:len(df)]"
   ]
  },
  {
   "cell_type": "code",
   "execution_count": null,
   "metadata": {
    "jupyter": {
     "source_hidden": true
    },
    "tags": []
   },
   "outputs": [],
   "source": [
    "rfabc = RandomForestRegressor()\n",
    "# rfabc.fit(train_df,train_labels)\n",
    "rfMultivar=joblib.load('../../pyRF/rf-multivarOffset.joblib')\n",
    "\n",
    "predRF = rfMultivar.predict(test_df)\n",
    "test_df = test_df.reset_index(drop=True)"
   ]
  },
  {
   "cell_type": "code",
   "execution_count": null,
   "metadata": {
    "jupyter": {
     "source_hidden": true
    },
    "tags": []
   },
   "outputs": [],
   "source": [
    "#pandas.DataFrame(predRF).plot(subplots=True)\n",
    "#test_labels.plot(subplots=True)\n",
    "#plt.show()"
   ]
  },
  {
   "cell_type": "markdown",
   "metadata": {},
   "source": [
    "## Evaluación"
   ]
  },
  {
   "cell_type": "code",
   "execution_count": null,
   "metadata": {},
   "outputs": [],
   "source": [
    "a = ((predRF - test_df[['Ts_Valor','HR_Valor','QFE_Valor']]))\n",
    "a.mean()"
   ]
  },
  {
   "cell_type": "markdown",
   "metadata": {},
   "source": [
    "Como se puede observar, el modelo genera gráficas que se asemejan mucho a los comportamientos de las variables en el set de datos de testeo, sin embargo, esto es solo una línea base, la principal misión de este modelo es demostrar la capacidad de consumir sus propias predicciones conservando la estacionalidad de las variables climáticas, de esta forma se genera un nuevo plan de evaluación el cual desarrolla esta procedimiento, resultando en las siguientes predicciones:"
   ]
  },
  {
   "cell_type": "code",
   "execution_count": null,
   "metadata": {
    "jupyter": {
     "source_hidden": true
    },
    "tags": []
   },
   "outputs": [],
   "source": [
    "now = datetime.datetime.now()\n",
    "now = pandas.to_datetime('2021-07-29 09:00:00')\n",
    "stackPreds = pandas.DataFrame()\n",
    "x = rfMultivar.predict(train_df[len(train_df)-1:])"
   ]
  },
  {
   "cell_type": "code",
   "execution_count": null,
   "metadata": {
    "jupyter": {
     "source_hidden": true
    },
    "tags": []
   },
   "outputs": [],
   "source": [
    "for i in range(0,72):\n",
    "    delta = now + datetime.timedelta(0,i*3600)\n",
    "    #temp = np.array([x,y,z,delta.hour,delta.day,delta.month],dtype=\"float32\")\n",
    "    temp = np.array([x[0,0],x[0,1],x[0,2],delta.hour,delta.day,delta.month,delta.year],dtype=\"float32\")\n",
    "    stackPreds = stackPreds.append(pandas.DataFrame(temp).transpose())\n",
    "    # Formateando registro para alimentar el modelo\n",
    "    temp_RE = np.reshape(temp,(-1,7))\n",
    "    x = rfMultivar.predict(temp_RE)"
   ]
  },
  {
   "cell_type": "code",
   "execution_count": null,
   "metadata": {
    "jupyter": {
     "source_hidden": true
    },
    "tags": []
   },
   "outputs": [],
   "source": [
    "stackPreds = stackPreds.reset_index(drop=True)\n",
    "test_labels = test_labels.reset_index(drop=True)\n",
    "stackPreds.columns = ['Ts_Valor','HR_Valor','QFE_Valor','h','d','m','y']\n",
    "stackPreds = stackPreds[['Ts_Valor','HR_Valor','QFE_Valor']]"
   ]
  },
  {
   "cell_type": "code",
   "execution_count": null,
   "metadata": {},
   "outputs": [],
   "source": [
    "stackPreds.plot(subplots=True)\n",
    "test_labels.plot(subplots=True)\n",
    "plt.show()"
   ]
  },
  {
   "cell_type": "code",
   "execution_count": null,
   "metadata": {},
   "outputs": [],
   "source": [
    "x = ((stackPreds - test_df[['Ts_Valor','HR_Valor','QFE_Valor']][0:72]))\n",
    "x.mean()"
   ]
  },
  {
   "cell_type": "markdown",
   "metadata": {},
   "source": [
    "Como se puede observar el error promedio ha aumentado considerablemente en comparación al anteriormente expuesto, sin embargo, es un pronóstico indiscutiblemente más optimista que el presentado en la **iteración 2**, ocupando la **misma fórmula**. Este proceso de retroalimentación garantiza la autonomía del modelo durante largos periodos de tiempo y por lo tanto, está listo para ser implementado como servicio con capacidad predictiva básica.\n",
    "\n",
    "Por último, se adjunta una gráfica donde se evidencia la diferencia de error promedio entre las predicciones autónomas y aquellas generadas mediante mapeo *'test_df(n) -> predicción(n+1)*"
   ]
  },
  {
   "cell_type": "code",
   "execution_count": null,
   "metadata": {},
   "outputs": [],
   "source": [
    "plt.plot(test_df['Ts_Valor'],label='testDF')\n",
    "plt.plot(predRF[0:,0],label='predTestDF')\n",
    "plt.plot(stackPreds['Ts_Valor'],label='predAutonoma')\n",
    "plt.legend()\n",
    "plt.grid()\n",
    "plt.show()"
   ]
  },
  {
   "cell_type": "markdown",
   "metadata": {},
   "source": [
    "# **Iteración seis: Modelo recurrente -LSTM-**\n",
    "\n",
    "\n",
    "## Preparación de datos\n",
    "**Selección de datos**: Ídem iteración anterior\n",
    "\n",
    "**Integración**: Ídem iteración anterior\n",
    "\n",
    "**Formateo**: Además de normalizar y descomponer la fecha de registro de forma tradicional, para cumplir con el objetivo de implementar un sistema de ventanas, se hace uso de un **generador de series de tiempo**"
   ]
  },
  {
   "cell_type": "markdown",
   "metadata": {
    "jp-MarkdownHeadingCollapsed": true,
    "tags": []
   },
   "source": [
    "## Modelado\n",
    "+ Fórmula: **Ts(n) ~ Ts(n-1) + Ts(n-2) + ... + Ts(n-24) + H + D + M** , en su versión multivariable (Ts+HR+QFE)(n)\n",
    "+ Algoritmo seleccionado: LSTM con capas densas"
   ]
  },
  {
   "cell_type": "code",
   "execution_count": null,
   "metadata": {},
   "outputs": [],
   "source": [
    "df = pandas.read_csv(\"./dataPreprocessed.csv\")\n",
    "df = createTimeFeatures(df)\n",
    "dates_df = df.pop('utc')\n",
    "dates_df = df.pop('minute')\n",
    "dates_df = df.pop('year')\n",
    "#df"
   ]
  },
  {
   "cell_type": "code",
   "execution_count": null,
   "metadata": {},
   "outputs": [],
   "source": [
    "## Normalizado\n",
    "train_mean = df.mean()\n",
    "train_std = df.std()\n",
    "df = (df - train_mean) / train_std"
   ]
  },
  {
   "cell_type": "code",
   "execution_count": null,
   "metadata": {},
   "outputs": [],
   "source": [
    "## Creación datasets de entrenamiento y testeo\n",
    "lendf = len(df)\n",
    "lendf = round(lendf*0.9)\n",
    "train_df = df[0:lendf]\n",
    "train_labels = df[['Ts_Valor','HR_Valor','QFE_Valor']][0:lendf]\n",
    "#train_labels = df[0:lendf]\n",
    "test_df = df[lendf:len(df)]\n",
    "test_labels = df[['Ts_Valor','HR_Valor','QFE_Valor']][lendf:len(df)]\n",
    "#test_labels = df[lendf:len(df)]"
   ]
  },
  {
   "cell_type": "code",
   "execution_count": null,
   "metadata": {},
   "outputs": [],
   "source": [
    "#test_df"
   ]
  },
  {
   "cell_type": "code",
   "execution_count": null,
   "metadata": {},
   "outputs": [],
   "source": [
    "train_df = train_df.to_numpy()\n",
    "test_df = test_df.to_numpy()\n",
    "train_labels = train_labels.to_numpy()\n",
    "test_labels = test_labels.to_numpy()"
   ]
  },
  {
   "cell_type": "code",
   "execution_count": null,
   "metadata": {
    "tags": []
   },
   "outputs": [],
   "source": [
    "winSize = 24 # passing events as 24hr windows\n",
    "numFeatures = 6 # we are passing all available features, you can replace 'month' by 'cos'\n",
    "train_gen = tf.keras.preprocessing.sequence.TimeseriesGenerator(train_df,train_labels,length=winSize)\n",
    "test_gen = tf.keras.preprocessing.sequence.TimeseriesGenerator(test_df,test_labels,length=winSize)"
   ]
  },
  {
   "cell_type": "code",
   "execution_count": null,
   "metadata": {},
   "outputs": [],
   "source": [
    "np.set_printoptions(suppress=True)\n",
    "X,y = train_gen[0]\n",
    "print(f'Given the Array: \\n{X[0]}')\n",
    "print(f'Predict this y: \\n {y[0]}')"
   ]
  },
  {
   "cell_type": "code",
   "execution_count": null,
   "metadata": {
    "jupyter": {
     "source_hidden": true
    },
    "tags": []
   },
   "outputs": [],
   "source": [
    "Given the Array: \n",
    "[[  21.6   68.  1005.6    0.     1.     1. ]\n",
    " [  22.    64.  1006.1    1.     1.     1. ]\n",
    " [  21.8   64.  1006.2    2.     1.     1. ]\n",
    " [  21.6   64.  1005.5    3.     1.     1. ]\n",
    " [  21.3   65.  1004.8    4.     1.     1. ]\n",
    " [  20.9   66.  1003.9    5.     1.     1. ]\n",
    " [  21.2   64.  1003.2    6.     1.     1. ]\n",
    " [  21.1   64.  1002.4    7.     1.     1. ]\n",
    " [  20.7   65.  1002.2    8.     1.     1. ]\n",
    " [  19.5   73.  1002.9    9.     1.     1. ]\n",
    " [  19.6   72.  1003.9   10.     1.     1. ]\n",
    " [  20.2   69.  1004.6   11.     1.     1. ]\n",
    " [  21.6   64.  1005.    12.     1.     1. ]\n",
    " [  22.1   63.  1004.9   13.     1.     1. ]\n",
    " [  22.5   65.  1004.6   14.     1.     1. ]\n",
    " [  22.9   63.  1004.3   15.     1.     1. ]\n",
    " [  23.3   62.  1003.6   16.     1.     1. ]\n",
    " [  23.2   63.  1003.3   17.     1.     1. ]\n",
    " [  24.    61.  1002.9   18.     1.     1. ]\n",
    " [  23.8   58.  1003.4   19.     1.     1. ]\n",
    " [  23.6   59.  1003.    20.     1.     1. ]\n",
    " [  23.1   63.  1002.8   21.     1.     1. ]\n",
    " [  22.5   67.  1002.9   22.     1.     1. ]\n",
    " [  22.5   67.  1003.8   23.     1.     1. ]]\n",
    "Predict this y: \n",
    " [  22.2   67.  1004.4    0.     2.     1. ]"
   ]
  },
  {
   "cell_type": "code",
   "execution_count": null,
   "metadata": {},
   "outputs": [],
   "source": [
    "train_df[:26]"
   ]
  },
  {
   "cell_type": "code",
   "execution_count": null,
   "metadata": {
    "jupyter": {
     "source_hidden": true
    },
    "tags": []
   },
   "outputs": [],
   "source": [
    "array([[  21.6,   68. , 1005.6,    0. ,    1. ,    1. ],\n",
    "       [  22. ,   64. , 1006.1,    1. ,    1. ,    1. ],\n",
    "       [  21.8,   64. , 1006.2,    2. ,    1. ,    1. ],\n",
    "       [  21.6,   64. , 1005.5,    3. ,    1. ,    1. ],\n",
    "       [  21.3,   65. , 1004.8,    4. ,    1. ,    1. ],\n",
    "       [  20.9,   66. , 1003.9,    5. ,    1. ,    1. ],\n",
    "       [  21.2,   64. , 1003.2,    6. ,    1. ,    1. ],\n",
    "       [  21.1,   64. , 1002.4,    7. ,    1. ,    1. ],\n",
    "       [  20.7,   65. , 1002.2,    8. ,    1. ,    1. ],\n",
    "       [  19.5,   73. , 1002.9,    9. ,    1. ,    1. ],\n",
    "       [  19.6,   72. , 1003.9,   10. ,    1. ,    1. ],\n",
    "       [  20.2,   69. , 1004.6,   11. ,    1. ,    1. ],\n",
    "       [  21.6,   64. , 1005. ,   12. ,    1. ,    1. ],\n",
    "       [  22.1,   63. , 1004.9,   13. ,    1. ,    1. ],\n",
    "       [  22.5,   65. , 1004.6,   14. ,    1. ,    1. ],\n",
    "       [  22.9,   63. , 1004.3,   15. ,    1. ,    1. ],\n",
    "       [  23.3,   62. , 1003.6,   16. ,    1. ,    1. ],\n",
    "       [  23.2,   63. , 1003.3,   17. ,    1. ,    1. ],\n",
    "       [  24. ,   61. , 1002.9,   18. ,    1. ,    1. ],\n",
    "       [  23.8,   58. , 1003.4,   19. ,    1. ,    1. ],\n",
    "       [  23.6,   59. , 1003. ,   20. ,    1. ,    1. ],\n",
    "       [  23.1,   63. , 1002.8,   21. ,    1. ,    1. ],\n",
    "       [  22.5,   67. , 1002.9,   22. ,    1. ,    1. ],\n",
    "       [  22.5,   67. , 1003.8,   23. ,    1. ,    1. ],\n",
    "       [  22.2,   67. , 1004.4,    0. ,    2. ,    1. ],\n",
    "       [  22. ,   67. , 1005. ,    1. ,    2. ,    1. ]])"
   ]
  },
  {
   "cell_type": "code",
   "execution_count": null,
   "metadata": {},
   "outputs": [],
   "source": [
    "nnHM = tf.keras.Sequential()\n",
    "#nnHM.add(tf.keras.layers.Dense(24,input_shape=(2,),activation='relu')) # this is the input shape if you pass 2 variables\n",
    "# Adding more `lstm_units` just overfits more quickly.\n",
    "nnHM.add(tf.keras.layers.Dense(168,activation='relu',input_shape=(winSize,numFeatures,)))\n",
    "#nnHM.add(tf.keras.layers.LSTM(144,activation='relu',input_shape=(winSize,numFeatures,),return_sequences=True))\n",
    "nnHM.add(tf.keras.layers.LSTM(24,return_sequences=True))\n",
    "nnHM.add(tf.keras.layers.SimpleRNN(6,return_sequences=False))\n",
    "nnHM.add(tf.keras.layers.Flatten())\n",
    "nnHM.add(tf.keras.layers.Dense(3))"
   ]
  },
  {
   "cell_type": "code",
   "execution_count": null,
   "metadata": {},
   "outputs": [],
   "source": [
    "nnHM.compile(\n",
    "    optimizer=tf.optimizers.Adam(),\n",
    "    loss='mae', # 'mean_absolute_error',\n",
    "    metrics=[tf.keras.metrics.MeanSquaredError()]\n",
    ")\n",
    "history = nnHM.fit_generator(\n",
    "    train_gen,\n",
    "    epochs=3,\n",
    "    verbose=1,\n",
    "    shuffle=False,\n",
    "    validation_data=test_gen\n",
    ")\n",
    "\n",
    "# 221/221 [==============================] - 30s 136ms/step - loss: 0.1939 - mean_squared_error: 0.0804 - val_loss: 0.2382 - val_mean_squared_error: 0.1322"
   ]
  },
  {
   "cell_type": "code",
   "execution_count": null,
   "metadata": {},
   "outputs": [],
   "source": [
    "lastTrainBatch = train_df[-24:]\n",
    "lastTrainBatch = np.array(lastTrainBatch)\n",
    "# now reshape this lastTrainBatch to meet what input_shape the model expects\n",
    "lastTrainBatch = lastTrainBatch.reshape((1,winSize,numFeatures))\n",
    "lstmPred = nnHM.predict(lastTrainBatch,verbose=1)\n",
    "lstmPred"
   ]
  },
  {
   "cell_type": "code",
   "execution_count": null,
   "metadata": {},
   "outputs": [],
   "source": [
    "x = nnHM.predict_generator(test_gen,verbose=1)\n",
    "x.shape"
   ]
  },
  {
   "cell_type": "code",
   "execution_count": null,
   "metadata": {
    "tags": []
   },
   "outputs": [],
   "source": [
    "# de-normalize\n",
    "X = pandas.DataFrame(x)\n",
    "#X.columns = ['Ts_Valor','HR_Valor','QFE_Valor','hour','day','month']\n",
    "X.columns = ['Ts_Valor','HR_Valor','QFE_Valor']"
   ]
  },
  {
   "cell_type": "code",
   "execution_count": null,
   "metadata": {},
   "outputs": [],
   "source": [
    "varToPred = ['Ts_Valor','HR_Valor','QFE_Valor']\n",
    "X = X*train_std[varToPred]+train_mean[varToPred]\n",
    "X"
   ]
  },
  {
   "cell_type": "code",
   "execution_count": null,
   "metadata": {},
   "outputs": [],
   "source": [
    "test_df = df[lendf:len(df)]\n",
    "test_labels = df[lendf:len(df)]\n",
    "#test_df"
   ]
  },
  {
   "cell_type": "code",
   "execution_count": null,
   "metadata": {},
   "outputs": [],
   "source": [
    "# test_labels = test_labels*train_std[varToPred]+train_mean[varToPred]\n",
    "test_labels = test_labels*train_std+train_mean\n",
    "test_labels = test_labels.reset_index(drop=True)"
   ]
  },
  {
   "cell_type": "code",
   "execution_count": null,
   "metadata": {},
   "outputs": [],
   "source": [
    "### the offseted prediction works wonders -offset by 24 hours-\n",
    "plt.plot(test_labels[['Ts_Valor']],label='testDF')\n",
    "plt.plot(X[['Ts_Valor']],label='dense+lstm')\n",
    "plt.grid()\n",
    "plt.legend()\n",
    "plt.show()"
   ]
  },
  {
   "cell_type": "code",
   "execution_count": null,
   "metadata": {},
   "outputs": [],
   "source": [
    "a = (X - test_labels).mean()\n",
    "a"
   ]
  },
  {
   "cell_type": "markdown",
   "metadata": {
    "tags": []
   },
   "source": [
    "## Evaluación"
   ]
  },
  {
   "cell_type": "markdown",
   "metadata": {},
   "source": [
    "Ídem a iteraciones anteriores, estos valores de error promedio no son suficientes para asegurar la calidad del modelo, se debe evaluar su capacidad de retroalimentación en tiempo real, por lo tanto se genera un nuevo proceso de retroalimentación"
   ]
  },
  {
   "cell_type": "code",
   "execution_count": null,
   "metadata": {
    "jupyter": {
     "source_hidden": true
    },
    "tags": []
   },
   "outputs": [],
   "source": [
    "now = datetime.datetime.now()\n",
    "now = pandas.to_datetime('2021-07-29 09:00:00')\n",
    "now = pandas.to_datetime('2021-03-23 06:00:00')\n",
    "df3 = train_df[-24:]\n",
    "stackPreds = pandas.DataFrame()\n",
    "lastTrainBatch = train_df[-24:]\n",
    "# now reshape this lastTrainBatch to meet what input_shape the model expects\n",
    "lastTrainBatch = lastTrainBatch.reshape((1,winSize,numFeatures))\n",
    "x = nnHM.predict(lastTrainBatch)"
   ]
  },
  {
   "cell_type": "code",
   "execution_count": null,
   "metadata": {
    "jupyter": {
     "source_hidden": true
    },
    "tags": []
   },
   "outputs": [],
   "source": [
    "def norm(value,index):\n",
    "    #value = (value - modelMean[index]) / modelStd[index]\n",
    "    value = (value - train_mean[index]) / train_std[index]\n",
    "    return value"
   ]
  },
  {
   "cell_type": "code",
   "execution_count": null,
   "metadata": {
    "jupyter": {
     "source_hidden": true
    },
    "tags": []
   },
   "outputs": [],
   "source": [
    "for i in range(0,72):\n",
    "    delta = now + datetime.timedelta(0,i*3600)\n",
    "    #temp = np.array([x,y,z,delta.hour,delta.day,delta.month],dtype=\"float32\")\n",
    "    # temp = np.array([x,y,z,norm(delta.hour,3),norm(delta.day,4),norm(delta.month,5)],dtype=\"float32\")\n",
    "    temp = np.array([x[0,0],x[0,1],x[0,2],norm(delta.hour,3),norm(delta.day,4),norm(delta.month,5)],dtype=\"float32\")\n",
    "    stackPreds = stackPreds.append(pandas.DataFrame(temp).transpose())\n",
    "    # df3 = np.vstack((df3[0],temp))\n",
    "    # df4 = np.vstack((df4,temp))\n",
    "    cde = np.reshape(df3,(24,6))\n",
    "    df3 = np.vstack((cde,temp))\n",
    "    df3 = np.delete(df3, (0), axis=0)\n",
    "    df3 = np.reshape(df3,(-1,24,6))\n",
    "    x = nnHM.predict(df3)"
   ]
  },
  {
   "cell_type": "code",
   "execution_count": null,
   "metadata": {
    "jupyter": {
     "source_hidden": true
    },
    "tags": []
   },
   "outputs": [],
   "source": [
    "stackPreds = stackPreds.reset_index(drop=True)\n",
    "stackPreds.columns = ['Ts_Valor','HR_Valor','QFE_Valor','hour','day','month']\n",
    "stackPreds = stackPreds*train_std+train_mean\n",
    "stackPreds"
   ]
  },
  {
   "cell_type": "code",
   "execution_count": null,
   "metadata": {
    "jupyter": {
     "source_hidden": true
    },
    "tags": []
   },
   "outputs": [],
   "source": [
    "predTest = nnHM.predict(test_gen,verbose=1)\n",
    "predTest = predTest*train_std[varToPred].to_numpy()+train_mean[varToPred].to_numpy()"
   ]
  },
  {
   "cell_type": "code",
   "execution_count": null,
   "metadata": {
    "jupyter": {
     "source_hidden": true
    },
    "tags": []
   },
   "outputs": [],
   "source": [
    "df = pandas.read_csv(\"./dataPreprocessed.csv\")\n",
    "df = createTimeFeatures(df)\n",
    "dates_df = df.pop('utc')\n",
    "dates_df = df.pop('minute')\n",
    "dates_df = df.pop('year')\n",
    "test_df = df[lendf:len(df)]\n",
    "test_labels = df[['Ts_Valor','HR_Valor','QFE_Valor']][lendf:len(df)]\n",
    "test_labels = test_labels.reset_index(drop=True)"
   ]
  },
  {
   "cell_type": "code",
   "execution_count": null,
   "metadata": {},
   "outputs": [],
   "source": [
    "test_df"
   ]
  },
  {
   "cell_type": "code",
   "execution_count": null,
   "metadata": {},
   "outputs": [],
   "source": [
    "plt.plot(test_labels['Ts_Valor'], label='testLabels')\n",
    "plt.plot(predTest[0:,0],label='predTestDF')\n",
    "plt.plot(stackPreds['Ts_Valor'],label='predAutonoma')\n",
    "plt.legend()\n",
    "plt.grid()\n",
    "plt.show()"
   ]
  },
  {
   "cell_type": "code",
   "execution_count": null,
   "metadata": {},
   "outputs": [],
   "source": [
    "plt.plot(test_labels['HR_Valor'], label='testLabels')\n",
    "plt.plot(predTest[0:,1],label='predTestDF')\n",
    "plt.plot(stackPreds['HR_Valor'],label='predAutonoma')\n",
    "plt.legend()\n",
    "plt.grid()\n",
    "plt.show()"
   ]
  },
  {
   "cell_type": "code",
   "execution_count": null,
   "metadata": {},
   "outputs": [],
   "source": [
    "a = stackPreds - test_labels[:72]\n",
    "a.mean()"
   ]
  },
  {
   "cell_type": "code",
   "execution_count": null,
   "metadata": {},
   "outputs": [],
   "source": [
    "# nnHM.save(\"../../backup/lstmMIMO\")"
   ]
  },
  {
   "cell_type": "code",
   "execution_count": null,
   "metadata": {},
   "outputs": [],
   "source": [
    "nnHM = tf.keras.models.load_model(\"../../backup/lstmMIMO\")"
   ]
  },
  {
   "cell_type": "code",
   "execution_count": null,
   "metadata": {},
   "outputs": [],
   "source": []
  }
 ],
 "metadata": {
  "kernelspec": {
   "display_name": "Python 3.9.6 64-bit",
   "language": "python",
   "name": "python39664bitb48f37e888a140808da316066f1ee86a"
  },
  "language_info": {
   "codemirror_mode": {
    "name": "ipython",
    "version": 3
   },
   "file_extension": ".py",
   "mimetype": "text/x-python",
   "name": "python",
   "nbconvert_exporter": "python",
   "pygments_lexer": "ipython3",
   "version": "3.9.6"
  }
 },
 "nbformat": 4,
 "nbformat_minor": 4
}
